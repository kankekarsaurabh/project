{
 "cells": [
  {
   "cell_type": "code",
   "execution_count": null,
   "metadata": {},
   "outputs": [
    {
     "name": "stdout",
     "output_type": "stream",
     "text": [
      "895\n"
     ]
    }
   ],
   "source": [
    "#Linkedlist exercises\n",
    "\n",
    "class Node:\n",
    "    def __init__(self,data=None, next=None):\n",
    "        self.data=data\n",
    "        self.next=next\n",
    "\n",
    "class LinkedList:\n",
    "    def __init__(self):\n",
    "        self.head=None\n",
    "\n",
    "    def insert_at_beginning(self,data):\n",
    "        node=Node(data,self.head)\n",
    "        self.head=node\n",
    "\n",
    "    def print(self):\n",
    "        if self.head is None:\n",
    "            print(\"Linked list is empty\")\n",
    "            return\n",
    "        itr=self.head\n",
    "        llstr=\"\"\n",
    "        while itr:\n",
    "            llstr=llstr+str(itr.data)\n",
    "            itr=itr.next\n",
    "        print(llstr)\n",
    "\n",
    "\n",
    "\n",
    "if__name__='__main__'\n",
    "ll=LinkedList()\n",
    "ll.insert_at_beginning(5)\n",
    "ll.insert_at_beginning(89)\n",
    "ll.print()\n"
   ]
  },
  {
   "cell_type": "code",
   "execution_count": null,
   "metadata": {},
   "outputs": [
    {
     "name": "stdout",
     "output_type": "stream",
     "text": [
      "olleh\n"
     ]
    }
   ],
   "source": [
    "def reverse_string(s):\n",
    "    reversed_s = \"\"\n",
    "    for char in s:\n",
    "        reversed_s = char + reversed_s\n",
    "    return reversed_s\n",
    "\n",
    "# Example usage\n",
    "string = \"hello\"\n",
    "reversed_string = reverse_string(string)\n",
    "print(reversed_string)  # Output: \"olleh\"\n"
   ]
  },
  {
   "cell_type": "code",
   "execution_count": 29,
   "metadata": {},
   "outputs": [
    {
     "name": "stdout",
     "output_type": "stream",
     "text": [
      "None\n"
     ]
    }
   ],
   "source": [
    "\n",
    "def doll(string):\n",
    "    multiplier=\"\"\n",
    "    add=\"\"\n",
    "    for i in string:\n",
    "        add=i+i+i\n",
    "        multiplier=add+ \"\"\n",
    "        \n",
    "\n",
    "s=\"Hello\"\n",
    "result=doll(s)\n",
    "print(result)"
   ]
  }
 ],
 "metadata": {
  "kernelspec": {
   "display_name": "Python 3",
   "language": "python",
   "name": "python3"
  },
  "language_info": {
   "codemirror_mode": {
    "name": "ipython",
    "version": 3
   },
   "file_extension": ".py",
   "mimetype": "text/x-python",
   "name": "python",
   "nbconvert_exporter": "python",
   "pygments_lexer": "ipython3",
   "version": "3.9.6"
  }
 },
 "nbformat": 4,
 "nbformat_minor": 2
}
