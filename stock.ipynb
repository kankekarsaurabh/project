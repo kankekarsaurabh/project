{
 "cells": [
  {
   "cell_type": "code",
   "execution_count": 1,
   "metadata": {},
   "outputs": [
    {
     "name": "stderr",
     "output_type": "stream",
     "text": [
      "/Users/saurabhkankekar/projects/project-1/.venv/lib/python3.9/site-packages/urllib3/__init__.py:35: NotOpenSSLWarning: urllib3 v2 only supports OpenSSL 1.1.1+, currently the 'ssl' module is compiled with 'LibreSSL 2.8.3'. See: https://github.com/urllib3/urllib3/issues/3020\n",
      "  warnings.warn(\n"
     ]
    }
   ],
   "source": [
    "#predicting apple stock price\n",
    "\n",
    "import yfinance as yf"
   ]
  },
  {
   "cell_type": "code",
   "execution_count": 2,
   "metadata": {},
   "outputs": [
    {
     "name": "stdout",
     "output_type": "stream",
     "text": [
      "YF.download() has changed argument auto_adjust default to True\n"
     ]
    },
    {
     "name": "stderr",
     "output_type": "stream",
     "text": [
      "[*********************100%***********************]  1 of 1 completed"
     ]
    },
    {
     "name": "stdout",
     "output_type": "stream",
     "text": [
      "Price            Close        High         Low        Open     Volume\n",
      "Ticker            AAPL        AAPL        AAPL        AAPL       AAPL\n",
      "Date                                                                 \n",
      "2020-01-02   72.716095   72.776621   71.466835   71.721042  135480400\n",
      "2020-01-03   72.009117   72.771745   71.783962   71.941328  146322800\n",
      "2020-01-06   72.582893   72.621631   70.876060   71.127851  118387200\n",
      "2020-01-07   72.241547   72.849224   72.021231   72.592594  108872000\n",
      "2020-01-08   73.403625   73.706256   71.943736   71.943736  132079200\n",
      "...                ...         ...         ...         ...        ...\n",
      "2025-02-24  247.100006  248.860001  244.419998  244.929993   51326400\n",
      "2025-02-25  247.039993  250.000000  244.910004  248.000000   48013300\n",
      "2025-02-26  240.360001  244.979996  239.130005  244.330002   44433600\n",
      "2025-02-27  237.300003  242.460007  237.059998  239.410004   41153600\n",
      "2025-02-28  241.839996  242.089996  230.199997  236.949997   56796200\n",
      "\n",
      "[1297 rows x 5 columns]\n"
     ]
    },
    {
     "name": "stderr",
     "output_type": "stream",
     "text": [
      "\n"
     ]
    }
   ],
   "source": [
    "ticker=\"AAPL\"\n",
    "\n",
    "stock_data=yf.download(ticker, start= \"2020-01-01\", end =\"2025-03-01\")\n",
    "\n",
    "print(stock_data)"
   ]
  },
  {
   "cell_type": "code",
   "execution_count": 3,
   "metadata": {},
   "outputs": [
    {
     "name": "stdout",
     "output_type": "stream",
     "text": [
      "Price   Ticker\n",
      "Close   AAPL      0\n",
      "High    AAPL      0\n",
      "Low     AAPL      0\n",
      "Open    AAPL      0\n",
      "Volume  AAPL      0\n",
      "dtype: int64\n"
     ]
    }
   ],
   "source": [
    "#checking if we are having any null values\n",
    "print(stock_data.isnull().sum())"
   ]
  },
  {
   "cell_type": "code",
   "execution_count": 4,
   "metadata": {},
   "outputs": [
    {
     "data": {
      "text/html": [
       "<div>\n",
       "<style scoped>\n",
       "    .dataframe tbody tr th:only-of-type {\n",
       "        vertical-align: middle;\n",
       "    }\n",
       "\n",
       "    .dataframe tbody tr th {\n",
       "        vertical-align: top;\n",
       "    }\n",
       "\n",
       "    .dataframe thead tr th {\n",
       "        text-align: left;\n",
       "    }\n",
       "\n",
       "    .dataframe thead tr:last-of-type th {\n",
       "        text-align: right;\n",
       "    }\n",
       "</style>\n",
       "<table border=\"1\" class=\"dataframe\">\n",
       "  <thead>\n",
       "    <tr>\n",
       "      <th>Price</th>\n",
       "      <th>Close</th>\n",
       "      <th>High</th>\n",
       "      <th>Low</th>\n",
       "      <th>Open</th>\n",
       "      <th>Volume</th>\n",
       "    </tr>\n",
       "    <tr>\n",
       "      <th>Ticker</th>\n",
       "      <th>AAPL</th>\n",
       "      <th>AAPL</th>\n",
       "      <th>AAPL</th>\n",
       "      <th>AAPL</th>\n",
       "      <th>AAPL</th>\n",
       "    </tr>\n",
       "    <tr>\n",
       "      <th>Date</th>\n",
       "      <th></th>\n",
       "      <th></th>\n",
       "      <th></th>\n",
       "      <th></th>\n",
       "      <th></th>\n",
       "    </tr>\n",
       "  </thead>\n",
       "  <tbody>\n",
       "    <tr>\n",
       "      <th>2020-01-02</th>\n",
       "      <td>72.716095</td>\n",
       "      <td>72.776621</td>\n",
       "      <td>71.466835</td>\n",
       "      <td>71.721042</td>\n",
       "      <td>135480400</td>\n",
       "    </tr>\n",
       "    <tr>\n",
       "      <th>2020-01-03</th>\n",
       "      <td>72.009117</td>\n",
       "      <td>72.771745</td>\n",
       "      <td>71.783962</td>\n",
       "      <td>71.941328</td>\n",
       "      <td>146322800</td>\n",
       "    </tr>\n",
       "    <tr>\n",
       "      <th>2020-01-06</th>\n",
       "      <td>72.582893</td>\n",
       "      <td>72.621631</td>\n",
       "      <td>70.876060</td>\n",
       "      <td>71.127851</td>\n",
       "      <td>118387200</td>\n",
       "    </tr>\n",
       "    <tr>\n",
       "      <th>2020-01-07</th>\n",
       "      <td>72.241547</td>\n",
       "      <td>72.849224</td>\n",
       "      <td>72.021231</td>\n",
       "      <td>72.592594</td>\n",
       "      <td>108872000</td>\n",
       "    </tr>\n",
       "    <tr>\n",
       "      <th>2020-01-08</th>\n",
       "      <td>73.403625</td>\n",
       "      <td>73.706256</td>\n",
       "      <td>71.943736</td>\n",
       "      <td>71.943736</td>\n",
       "      <td>132079200</td>\n",
       "    </tr>\n",
       "    <tr>\n",
       "      <th>...</th>\n",
       "      <td>...</td>\n",
       "      <td>...</td>\n",
       "      <td>...</td>\n",
       "      <td>...</td>\n",
       "      <td>...</td>\n",
       "    </tr>\n",
       "    <tr>\n",
       "      <th>2025-02-24</th>\n",
       "      <td>247.100006</td>\n",
       "      <td>248.860001</td>\n",
       "      <td>244.419998</td>\n",
       "      <td>244.929993</td>\n",
       "      <td>51326400</td>\n",
       "    </tr>\n",
       "    <tr>\n",
       "      <th>2025-02-25</th>\n",
       "      <td>247.039993</td>\n",
       "      <td>250.000000</td>\n",
       "      <td>244.910004</td>\n",
       "      <td>248.000000</td>\n",
       "      <td>48013300</td>\n",
       "    </tr>\n",
       "    <tr>\n",
       "      <th>2025-02-26</th>\n",
       "      <td>240.360001</td>\n",
       "      <td>244.979996</td>\n",
       "      <td>239.130005</td>\n",
       "      <td>244.330002</td>\n",
       "      <td>44433600</td>\n",
       "    </tr>\n",
       "    <tr>\n",
       "      <th>2025-02-27</th>\n",
       "      <td>237.300003</td>\n",
       "      <td>242.460007</td>\n",
       "      <td>237.059998</td>\n",
       "      <td>239.410004</td>\n",
       "      <td>41153600</td>\n",
       "    </tr>\n",
       "    <tr>\n",
       "      <th>2025-02-28</th>\n",
       "      <td>241.839996</td>\n",
       "      <td>242.089996</td>\n",
       "      <td>230.199997</td>\n",
       "      <td>236.949997</td>\n",
       "      <td>56796200</td>\n",
       "    </tr>\n",
       "  </tbody>\n",
       "</table>\n",
       "<p>1297 rows × 5 columns</p>\n",
       "</div>"
      ],
      "text/plain": [
       "Price            Close        High         Low        Open     Volume\n",
       "Ticker            AAPL        AAPL        AAPL        AAPL       AAPL\n",
       "Date                                                                 \n",
       "2020-01-02   72.716095   72.776621   71.466835   71.721042  135480400\n",
       "2020-01-03   72.009117   72.771745   71.783962   71.941328  146322800\n",
       "2020-01-06   72.582893   72.621631   70.876060   71.127851  118387200\n",
       "2020-01-07   72.241547   72.849224   72.021231   72.592594  108872000\n",
       "2020-01-08   73.403625   73.706256   71.943736   71.943736  132079200\n",
       "...                ...         ...         ...         ...        ...\n",
       "2025-02-24  247.100006  248.860001  244.419998  244.929993   51326400\n",
       "2025-02-25  247.039993  250.000000  244.910004  248.000000   48013300\n",
       "2025-02-26  240.360001  244.979996  239.130005  244.330002   44433600\n",
       "2025-02-27  237.300003  242.460007  237.059998  239.410004   41153600\n",
       "2025-02-28  241.839996  242.089996  230.199997  236.949997   56796200\n",
       "\n",
       "[1297 rows x 5 columns]"
      ]
     },
     "execution_count": 4,
     "metadata": {},
     "output_type": "execute_result"
    }
   ],
   "source": [
    "df=stock_data\n",
    "df"
   ]
  },
  {
   "cell_type": "code",
   "execution_count": 5,
   "metadata": {},
   "outputs": [
    {
     "data": {
      "text/html": [
       "<div>\n",
       "<style scoped>\n",
       "    .dataframe tbody tr th:only-of-type {\n",
       "        vertical-align: middle;\n",
       "    }\n",
       "\n",
       "    .dataframe tbody tr th {\n",
       "        vertical-align: top;\n",
       "    }\n",
       "\n",
       "    .dataframe thead tr th {\n",
       "        text-align: left;\n",
       "    }\n",
       "\n",
       "    .dataframe thead tr:last-of-type th {\n",
       "        text-align: right;\n",
       "    }\n",
       "</style>\n",
       "<table border=\"1\" class=\"dataframe\">\n",
       "  <thead>\n",
       "    <tr>\n",
       "      <th>Price</th>\n",
       "      <th>Close</th>\n",
       "      <th>High</th>\n",
       "      <th>Low</th>\n",
       "      <th>Open</th>\n",
       "      <th>Volume</th>\n",
       "    </tr>\n",
       "    <tr>\n",
       "      <th>Ticker</th>\n",
       "      <th>AAPL</th>\n",
       "      <th>AAPL</th>\n",
       "      <th>AAPL</th>\n",
       "      <th>AAPL</th>\n",
       "      <th>AAPL</th>\n",
       "    </tr>\n",
       "    <tr>\n",
       "      <th>Date</th>\n",
       "      <th></th>\n",
       "      <th></th>\n",
       "      <th></th>\n",
       "      <th></th>\n",
       "      <th></th>\n",
       "    </tr>\n",
       "  </thead>\n",
       "  <tbody>\n",
       "    <tr>\n",
       "      <th>2020-01-02</th>\n",
       "      <td>72.716095</td>\n",
       "      <td>72.776621</td>\n",
       "      <td>71.466835</td>\n",
       "      <td>71.721042</td>\n",
       "      <td>135480400</td>\n",
       "    </tr>\n",
       "    <tr>\n",
       "      <th>2020-01-03</th>\n",
       "      <td>72.009117</td>\n",
       "      <td>72.771745</td>\n",
       "      <td>71.783962</td>\n",
       "      <td>71.941328</td>\n",
       "      <td>146322800</td>\n",
       "    </tr>\n",
       "    <tr>\n",
       "      <th>2020-01-06</th>\n",
       "      <td>72.582893</td>\n",
       "      <td>72.621631</td>\n",
       "      <td>70.876060</td>\n",
       "      <td>71.127851</td>\n",
       "      <td>118387200</td>\n",
       "    </tr>\n",
       "    <tr>\n",
       "      <th>2020-01-07</th>\n",
       "      <td>72.241547</td>\n",
       "      <td>72.849224</td>\n",
       "      <td>72.021231</td>\n",
       "      <td>72.592594</td>\n",
       "      <td>108872000</td>\n",
       "    </tr>\n",
       "    <tr>\n",
       "      <th>2020-01-08</th>\n",
       "      <td>73.403625</td>\n",
       "      <td>73.706256</td>\n",
       "      <td>71.943736</td>\n",
       "      <td>71.943736</td>\n",
       "      <td>132079200</td>\n",
       "    </tr>\n",
       "  </tbody>\n",
       "</table>\n",
       "</div>"
      ],
      "text/plain": [
       "Price           Close       High        Low       Open     Volume\n",
       "Ticker           AAPL       AAPL       AAPL       AAPL       AAPL\n",
       "Date                                                             \n",
       "2020-01-02  72.716095  72.776621  71.466835  71.721042  135480400\n",
       "2020-01-03  72.009117  72.771745  71.783962  71.941328  146322800\n",
       "2020-01-06  72.582893  72.621631  70.876060  71.127851  118387200\n",
       "2020-01-07  72.241547  72.849224  72.021231  72.592594  108872000\n",
       "2020-01-08  73.403625  73.706256  71.943736  71.943736  132079200"
      ]
     },
     "execution_count": 5,
     "metadata": {},
     "output_type": "execute_result"
    }
   ],
   "source": [
    "\n",
    "df.head()"
   ]
  },
  {
   "cell_type": "code",
   "execution_count": 6,
   "metadata": {},
   "outputs": [],
   "source": [
    "#Simple moving averages for 10 day closing and 50 day closing\n",
    "stock_data[\"SMA_10\"]=stock_data[\"Close\"].rolling(window=10).mean()\n",
    "stock_data[\"SMA_50\"]=stock_data[\"Close\"].rolling(window=50).mean()"
   ]
  },
  {
   "cell_type": "code",
   "execution_count": 7,
   "metadata": {},
   "outputs": [],
   "source": [
    "#EMA : Exponential Moving Average\n",
    "stock_data[\"EMA_10\"]=stock_data[\"Close\"].ewm(span=10,adjust=\"False\").mean()"
   ]
  },
  {
   "cell_type": "code",
   "execution_count": 8,
   "metadata": {},
   "outputs": [
    {
     "ename": "ModuleNotFoundError",
     "evalue": "No module named 'matplotlib'",
     "output_type": "error",
     "traceback": [
      "\u001b[0;31m---------------------------------------------------------------------------\u001b[0m",
      "\u001b[0;31mModuleNotFoundError\u001b[0m                       Traceback (most recent call last)",
      "Cell \u001b[0;32mIn[8], line 1\u001b[0m\n\u001b[0;32m----> 1\u001b[0m \u001b[38;5;28;01mimport\u001b[39;00m \u001b[38;5;21;01mmatplotlib\u001b[39;00m\u001b[38;5;21;01m.\u001b[39;00m\u001b[38;5;21;01mpyplot\u001b[39;00m \u001b[38;5;28;01mas\u001b[39;00m \u001b[38;5;21;01mplt\u001b[39;00m\n\u001b[1;32m      3\u001b[0m plt\u001b[38;5;241m.\u001b[39mfigure(figsize\u001b[38;5;241m=\u001b[39m(\u001b[38;5;241m12\u001b[39m,\u001b[38;5;241m6\u001b[39m))\n\u001b[1;32m      4\u001b[0m plt\u001b[38;5;241m.\u001b[39mplot(stock_data[\u001b[38;5;124m\"\u001b[39m\u001b[38;5;124mClose\u001b[39m\u001b[38;5;124m\"\u001b[39m],label\u001b[38;5;241m=\u001b[39m\u001b[38;5;124m\"\u001b[39m\u001b[38;5;124mclosing price\u001b[39m\u001b[38;5;124m\"\u001b[39m, color\u001b[38;5;241m=\u001b[39m\u001b[38;5;124m\"\u001b[39m\u001b[38;5;124mblue\u001b[39m\u001b[38;5;124m\"\u001b[39m)\n",
      "\u001b[0;31mModuleNotFoundError\u001b[0m: No module named 'matplotlib'"
     ]
    }
   ],
   "source": [
    "import matplotlib.pyplot as plt\n",
    "\n",
    "plt.figure(figsize=(12,6))\n",
    "plt.plot(stock_data[\"Close\"],label=\"closing price\", color=\"blue\")\n",
    "\n",
    "#plot 10 day SMA and EMA\n",
    "\n",
    "plt.plot(stock_data[\"SMA_10\"], label=\"SMA 10\", color=\"red\" , linestyle=\"dashed\")\n",
    "\n",
    "plt.plot(stock_data[\"EMA_10\"], label=\"EMA 10\" ,color=\"red\")\n",
    "\n",
    "plt.xlabel(\"Date\")\n",
    "plt.ylabel(\"price\")\n",
    "plt.title(\"SMA vs EMA on Stock Price\")\n",
    "plt.legend()\n",
    "plt.grid(True)\n",
    "plt.show\n"
   ]
  },
  {
   "cell_type": "code",
   "execution_count": null,
   "metadata": {},
   "outputs": [],
   "source": []
  }
 ],
 "metadata": {
  "kernelspec": {
   "display_name": ".venv",
   "language": "python",
   "name": "python3"
  },
  "language_info": {
   "codemirror_mode": {
    "name": "ipython",
    "version": 3
   },
   "file_extension": ".py",
   "mimetype": "text/x-python",
   "name": "python",
   "nbconvert_exporter": "python",
   "pygments_lexer": "ipython3",
   "version": "3.9.6"
  }
 },
 "nbformat": 4,
 "nbformat_minor": 2
}
